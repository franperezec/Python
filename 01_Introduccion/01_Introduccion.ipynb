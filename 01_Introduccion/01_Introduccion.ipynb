{
 "cells": [
  {
   "cell_type": "markdown",
   "metadata": {},
   "source": [
    "# Introducción"
   ]
  },
  {
   "cell_type": "markdown",
   "metadata": {},
   "source": [
    "\n",
    "## Instalación de Python 3\n",
    "\n",
    "### En Windows\n",
    "\n",
    "1. Visita la [página oficial de descargas de Python](https://www.python.org/downloads/).\n",
    "2. Descarga el instalador correspondiente para tu sistema operativo.\n",
    "3. Durante la instalación, asegúrate de marcar la opción **\"Add Python 3.x to PATH\"** para que el sistema reconozca Python en la línea de comandos.\n",
    "4. También se recomienda seleccionar la opción **\"Disable path length limit\"** para evitar posibles problemas con rutas largas.\n",
    "5. Una vez completada la instalación, abre la terminal `cmd`.\n",
    "6. Escribe `python` y presiona **Enter** para verificar la versión instalada.\n",
    "7. Si deseas salir de la consola interactiva de Python, presiona `CTRL + Z` seguido de **Enter**.\n",
    "\n",
    "### En macOS\n",
    "\n",
    "1. Abre la aplicación **Terminal**.\n",
    "2. Escribe `python3` y presiona **Enter**. Esto te llevará al intérprete interactivo de Python 3 (REPL).\n",
    "3. Si por alguna razón se abre el REPL de Python 2, verifica la instalación de Python 3 y asegúrate de ejecutarlo con `python3`.\n",
    "4. Para salir del REPL, simplemente presiona `CTRL + D`.\n",
    "\n",
    "### En Linux\n",
    "\n",
    "1. Abre una terminal.\n",
    "2. En la mayoría de las distribuciones, Python 3 ya está instalado. Puedes verificarlo escribiendo `python3` y presionando **Enter**.\n",
    "3. Si no está instalado, puedes agregarlo con el siguiente comando:\n",
    "   ```bash\n",
    "   sudo apt-get install python3\n",
    "   ```\n",
    "4. Para salir del REPL de Python 3, presiona `CTRL + D`."
   ]
  },
  {
   "cell_type": "markdown",
   "metadata": {},
   "source": [
    "\n",
    "## REPL de Python\n",
    "El REPL (Read-Eval-Print Loop) de Python es una herramienta interactiva que permite ejecutar y probar código Python de forma rápida y sencilla. Es una especie de consola en la que puedes ingresar instrucciones de Python y ver los resultados de inmediato.\n",
    "\n",
    "Cuando abres el REPL de Python, verás un indicador de entrada (generalmente un símbolo de \">>>\") que te indica que puedes ingresar código. Puedes escribir cualquier instrucción de Python válida, como asignaciones de variables, llamadas a funciones, operaciones matemáticas, entre otras.\n",
    "\n",
    "Una vez que ingreses una instrucción y presiones Enter, el REPL evaluará esa instrucción y mostrará el resultado en la siguiente línea. Esto te permite ver los resultados de tus instrucciones de inmediato, lo que es especialmente útil para probar pequeños fragmentos de código o experimentar con diferentes ideas.\n",
    "\n",
    "Aquí hay un ejemplo de cómo usar el REPL de Python:"
   ]
  },
  {
   "cell_type": "code",
   "execution_count": 1,
   "metadata": {},
   "outputs": [
    {
     "name": "stdout",
     "output_type": "stream",
     "text": [
      "15\n"
     ]
    }
   ],
   "source": [
    "x = 5\n",
    "y = 10\n",
    "suma = x + y\n",
    "print(suma)"
   ]
  },
  {
   "cell_type": "markdown",
   "metadata": {},
   "source": [
    "\n",
    "\n",
    "En este ejemplo, hemos asignado los valores 5 y 10 a las variables `x` e [`y`](command:_github.copilot.openSymbolFromReferences?%5B%22%22%2C%5B%7B%22uri%22%3A%7B%22%24mid%22%3A1%2C%22fsPath%22%3A%22c%3A%5C%5CPythonCourse%5C%5CinstalarPython3.ipynb%22%2C%22_sep%22%3A1%2C%22external%22%3A%22vscode-notebook-cell%3A%2Fc%253A%2FPythonCourse%2FinstalarPython3.ipynb%23W1sZmlsZQ%253D%253D%22%2C%22path%22%3A%22%2Fc%3A%2FPythonCourse%2FinstalarPython3.ipynb%22%2C%22scheme%22%3A%22vscode-notebook-cell%22%2C%22fragment%22%3A%22W1sZmlsZQ%3D%3D%22%7D%2C%22pos%22%3A%7B%22line%22%3A6%2C%22character%22%3A19%7D%7D%5D%5D \"Go to definition\"), respectivamente. Luego, hemos calculado la suma de `x` e [`y`](command:_github.copilot.openSymbolFromReferences?%5B%22%22%2C%5B%7B%22uri%22%3A%7B%22%24mid%22%3A1%2C%22fsPath%22%3A%22c%3A%5C%5CPythonCourse%5C%5CinstalarPython3.ipynb%22%2C%22_sep%22%3A1%2C%22external%22%3A%22vscode-notebook-cell%3A%2Fc%253A%2FPythonCourse%2FinstalarPython3.ipynb%23W1sZmlsZQ%253D%253D%22%2C%22path%22%3A%22%2Fc%3A%2FPythonCourse%2FinstalarPython3.ipynb%22%2C%22scheme%22%3A%22vscode-notebook-cell%22%2C%22fragment%22%3A%22W1sZmlsZQ%3D%3D%22%7D%2C%22pos%22%3A%7B%22line%22%3A6%2C%22character%22%3A19%7D%7D%5D%5D \"Go to definition\") y la hemos almacenado en la variable `suma`. Finalmente, hemos utilizado la función `print()` para mostrar el valor de `suma` en la salida del REPL.\n",
    "\n",
    "El REPL de Python es una herramienta muy útil para probar y depurar código rápidamente, ya que te permite ejecutar instrucciones de forma interactiva y ver los resultados al instante. También es una excelente manera de aprender Python, ya que puedes experimentar con diferentes conceptos y ver cómo se comporta el código en tiempo real."
   ]
  },
  {
   "cell_type": "markdown",
   "metadata": {},
   "source": [
    "## Editor de Código\n",
    "\n",
    "### IDE: Entorno de Desarrollo Integrado\n",
    "\n",
    "Un **IDE (Integrated Development Environment)** es una herramienta que facilita la escritura y gestión de código. Los IDEs proporcionan características como autocompletado, depuración (debugging) y pruebas (testing), lo que mejora la productividad y eficiencia en el desarrollo.\n",
    "\n",
    "### PyCharm\n",
    "\n",
    "**PyCharm** es un IDE popular que ofrece potentes funciones de autocompletado de código, depuración avanzada y herramientas integradas para realizar pruebas. Es ideal para proyectos de Python y es ampliamente utilizado por desarrolladores profesionales.\n",
    "\n",
    "### Visual Studio Code (VSCode)\n",
    "\n",
    "**Visual Studio Code (VSCode)** es un editor de código ligero y altamente personalizable que, a través de extensiones, puede ofrecer las mismas funcionalidades que un IDE completo, como autocompletado, depuración y pruebas. Es una excelente opción si prefieres un entorno más ligero o si trabajas con múltiples lenguajes de programación.\n",
    "\n",
    "Para descargar e instalar VSCode, visita la [página oficial de Visual Studio Code](https://code.visualstudio.com/)."
   ]
  },
  {
   "cell_type": "markdown",
   "metadata": {},
   "source": [
    "## Primera Aplicación\n",
    "\n",
    "1. Abre **Visual Studio Code (VSCode)**.\n",
    "2. Crea una nueva carpeta para tu proyecto.\n",
    "3. Dentro de esa carpeta, crea un archivo llamado `intro.py`.\n",
    "4. Abre el archivo `intro.py` y escribe el siguiente código:\n",
    "\n",
    "   ```python\n",
    "   print(\"Hola mundo\")\n",
    "   ```\n",
    "\n",
    "5. Guarda el archivo.\n",
    "\n",
    "6. Para ejecutar tu programa, abre la terminal integrada en VSCode (puedes hacerlo desde el menú `Ver` > `Terminal` o usando el atajo `Ctrl + ``).\n",
    "\n",
    "7. En la terminal, navega hasta la carpeta donde guardaste el archivo `intro.py` (si no estás ya en ella) y escribe el siguiente comando para ejecutar el programa:\n",
    "\n",
    "   ```bash\n",
    "   python intro.py\n",
    "   ```\n",
    "\n",
    "8. Deberías ver la salida \"Hola mundo\" en la terminal.\n",
    "\n",
    "9. Ahora, puedes experimentar agregando más líneas de código. Por ejemplo:\n",
    "\n",
    "   ```python\n",
    "   print(\"Hello, World!\")\n",
    "   print(\"Hello, Python! \" * 4)\n",
    "   ```\n",
    "\n",
    "10. Guarda el archivo nuevamente y ejecuta el programa desde la terminal para ver los resultados."
   ]
  },
  {
   "cell_type": "markdown",
   "metadata": {},
   "source": [
    "## Extensiones de VSCode para Python\n",
    "\n",
    "Visual Studio Code (VSCode) es un editor de código altamente personalizable que ofrece una amplia gama de extensiones para mejorar la experiencia de desarrollo en Python. Estas extensiones añaden características adicionales como autocompletado inteligente, resaltado de sintaxis, depuración avanzada, y mucho más.\n",
    "\n",
    "### Instalación de Extensiones\n",
    "\n",
    "Para instalar una extensión, haz clic en el ícono de los cuadrados (Marketplace de Extensiones) en la barra lateral izquierda de VSCode, y busca la extensión que necesitas.\n",
    "\n",
    "### Extensiones Populares para Python en VSCode\n",
    "\n",
    "1. **Python**: Esta es la extensión oficial de Python para VSCode, desarrollada por Microsoft. Proporciona soporte integral para el desarrollo en Python, incluyendo:\n",
    "   - Autocompletado inteligente.\n",
    "   - Resaltado de sintaxis.\n",
    "   - Depuración avanzada.\n",
    "   - Administración de entornos virtuales.\n",
    "   - Linting (detección de errores y problemas de estilo de código).\n",
    "   - Pruebas de código (unit testing).\n",
    "   - Formateo de código.\n",
    "   - Fragmentos de código (snippets).\n",
    "\n",
    "2. **Pylint**: Esta extensión es esencial para verificar errores de código y asegurar la adherencia a las convenciones de estilo en Python. Pylint analiza tu código y proporciona recomendaciones para mejorarlo.\n",
    "\n",
    "3. **Pylance**: Mejora la experiencia de desarrollo de Python en VSCode al ofrecer un análisis estático rápido y preciso, autocompletado avanzado, y sugerencias de tipo en tiempo real. Es un complemento imprescindible para la extensión oficial de Python.\n",
    "\n",
    "4. **Python Docstring Generator**: Facilita la generación de docstrings (comentarios en formato estándar) para tus funciones, clases y métodos en Python. Esta extensión ayuda a mantener tu código bien documentado y fácil de entender.\n",
    "\n",
    "5. **Python Test Explorer**: Permite ejecutar y depurar pruebas unitarias directamente desde VSCode. Ofrece una interfaz gráfica para administrar y ejecutar tus pruebas, lo que facilita el desarrollo orientado a pruebas (TDD).\n",
    "\n",
    "6. **Jupyter**: Si trabajas con Jupyter Notebooks, esta extensión es esencial. Proporciona soporte completo para la ejecución y visualización de notebooks, además de permitir la edición de celdas de código y texto dentro de VSCode.\n",
    "\n",
    "Estas son solo algunas de las muchas extensiones disponibles para Python en VSCode. Explora el Marketplace de Extensiones de VSCode para descubrir otras herramientas que se adapten a tus necesidades de desarrollo."
   ]
  },
  {
   "cell_type": "markdown",
   "metadata": {},
   "source": [
    "## Cómo Usar un Linter en VSCode\n",
    "\n",
    "Para utilizar un linter en Visual Studio Code, sigue estos pasos:\n",
    "\n",
    "1. Presiona `Shift + Ctrl + P` (o `Shift + Command + P` en macOS) para abrir la paleta de comandos de VSCode.\n",
    "2. En la barra de búsqueda que aparece, escribe \"Linter\" o \"Python: Select Linter\" y selecciona la opción correspondiente.\n",
    "3. Elige el linter que prefieras, como **Pylint** o **Flake8**. Si no tienes un linter instalado, VSCode te ofrecerá la opción de instalarlo automáticamente.\n",
    "4. Una vez seleccionado, el linter comenzará a analizar tu código en busca de errores y recomendaciones, las cuales se mostrarán directamente en el editor.\n",
    "\n",
    "Utilizar un linter te ayuda a mantener un código limpio y libre de errores, siguiendo las mejores prácticas de desarrollo en Python.\n"
   ]
  },
  {
   "cell_type": "markdown",
   "metadata": {},
   "source": [
    "## Formateo de Código\n",
    "\n",
    "### Ejemplo de Formateo\n",
    "\n",
    "Supongamos que creas un archivo llamado `format.py` con el siguiente código:\n",
    "\n",
    "```python\n",
    "hombre=\"feliz\"\n",
    "```\n",
    "\n",
    "Por convención, en Python es importante mantener un espaciado adecuado alrededor de los operadores para mejorar la legibilidad. El código debería verse así:\n",
    "\n",
    "```python\n",
    "hombre = \"feliz\"\n",
    "```\n",
    "\n",
    "### Usando el Formateo Automático en VSCode\n",
    "\n",
    "1. Abre el archivo `format.py` en VSCode.\n",
    "2. Presiona `Shift + Ctrl + P` (o `Shift + Command + P` en macOS) para abrir la paleta de comandos.\n",
    "3. Escribe \"Format Document\" en la barra de búsqueda y selecciona la opción. Si no tienes una extensión de formateo instalada, VSCode te sugerirá instalar **autopep8** u otra herramienta de formateo compatible.\n",
    "4. Una vez instalada la extensión, vuelve a presionar `Shift + Ctrl + P`, escribe \"Format Document\", y selecciona la opción. Esto aplicará automáticamente el formateo adecuado a tu código:\n",
    "\n",
    "   ```python\n",
    "   hombre = \"feliz\"\n",
    "   ```\n",
    "\n",
    "### Formateo Automático al Guardar\n",
    "\n",
    "Si prefieres que el código se formatee automáticamente cada vez que guardas el archivo:\n",
    "\n",
    "1. Ve a la configuración de VSCode (`Ctrl + ,` o desde el menú `Archivo > Preferencias > Configuración`).\n",
    "2. En la barra de búsqueda, escribe \"formatOnSave\".\n",
    "3. Activa la opción **Editor: Format On Save**.\n",
    "\n",
    "Ahora, cada vez que guardes un archivo, VSCode aplicará el formateo automáticamente.\n",
    "\n",
    "### ¿Qué es la Guía de Estilo PEP 8?\n",
    "\n",
    "La [PEP 8](https://peps.python.org/pep-0008/) es la Guía de Estilo para el código Python, conocida formalmente como **Python Enhancement Proposal 8**. Establece las convenciones de codificación para el lenguaje Python, incluyendo reglas sobre el espaciado, nombrado de variables, estructura de código, y más. Seguir estas recomendaciones ayuda a mantener un código más legible y coherente."
   ]
  },
  {
   "cell_type": "markdown",
   "metadata": {},
   "source": [
    "## Ejecutando Código en Python\n",
    "\n",
    "### Opción 1: Usar la Terminal\n",
    "\n",
    "Una manera de ejecutar tu código Python es a través de la terminal:\n",
    "\n",
    "- En Windows, abre la terminal y escribe `python` seguido del nombre del archivo, por ejemplo:\n",
    "\n",
    "  ```bash\n",
    "  python intro.py\n",
    "  ```\n",
    "\n",
    "- En macOS y Linux, generalmente usarás `python3` seguido del nombre del archivo:\n",
    "\n",
    "  ```bash\n",
    "  python3 intro.py\n",
    "  ```\n",
    "\n",
    "### Opción 2: Usar el Botón de Ejecución en VSCode\n",
    "\n",
    "Otra forma sencilla de ejecutar tu código en Visual Studio Code es hacer clic en el botón de \"play\" ubicado en la parte superior derecha del editor. Esto ejecutará el archivo actualmente abierto.\n",
    "\n",
    "\n",
    "\n"
   ]
  },
  {
   "cell_type": "markdown",
   "metadata": {},
   "source": [
    "## Implementación de Código en Python\n",
    "\n",
    "Python es un lenguaje de alto nivel que proporciona un conjunto de reglas claras y simples para escribir código. Sin embargo, para que el código Python se ejecute en una máquina, debe ser interpretado por una implementación específica del lenguaje.\n",
    "\n",
    "### Principales Implementaciones de Python\n",
    "\n",
    "1. **CPython**: Es la implementación oficial y más utilizada de Python, escrita en C. Es la que se instala por defecto cuando descargas Python desde su sitio web oficial.\n",
    "   \n",
    "2. **Jython**: Permite ejecutar código Python en una máquina virtual Java (JVM), lo que facilita la integración con aplicaciones Java.\n",
    "\n",
    "3. **PyPy**: Es una implementación alternativa de Python que se enfoca en la velocidad. Usa técnicas avanzadas de optimización como compilación Just-In-Time (JIT).\n",
    "\n",
    "4. **Brython**: Diseñada para ejecutar código Python directamente en el navegador web, convirtiéndolo a JavaScript.\n",
    "\n",
    "5. **IronPython**: Esta implementación está diseñada para integrarse con el framework .NET de Microsoft, permitiendo usar bibliotecas y recursos de otros lenguajes que funcionan en este entorno.\n",
    "\n",
    "### Comparación con Java\n",
    "\n",
    "- En Java, el código fuente es compilado a un bytecode que es ejecutado en la Java Virtual Machine (JVM). Esto permite que el código Java sea independiente del hardware específico de la máquina.\n",
    "\n",
    "- De manera similar, Python es interpretado a un bytecode que luego es ejecutado por la Python Virtual Machine (PVM), la cual traduce el bytecode al lenguaje de máquina específico para que pueda ser ejecutado por la computadora."
   ]
  }
 ],
 "metadata": {
  "kernelspec": {
   "display_name": "Python 3",
   "language": "python",
   "name": "python3"
  },
  "language_info": {
   "codemirror_mode": {
    "name": "ipython",
    "version": 3
   },
   "file_extension": ".py",
   "mimetype": "text/x-python",
   "name": "python",
   "nbconvert_exporter": "python",
   "pygments_lexer": "ipython3",
   "version": "3.12.3"
  }
 },
 "nbformat": 4,
 "nbformat_minor": 2
}
