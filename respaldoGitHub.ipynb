{
 "cells": [
  {
   "cell_type": "markdown",
   "metadata": {},
   "source": [
    "# Pasos para respaldar tu proyecto en GitHub\n",
    "\n",
    "## Configuración inicial\n",
    "\n",
    "1. Crear una carpeta en tu computadora (ejemplo: `C:\\PythonCourse`).\n",
    "2. Abrir Visual Studio Code (VSC).\n",
    "3. En VSC, abrir la carpeta creada.\n",
    "4. Abrir una terminal en VSC.\n",
    "5. Inicializar un repositorio Git local:\n",
    "   ```\n",
    "   git init\n",
    "   ```\n",
    "6. Crear un nuevo repositorio en GitHub:\n",
    "   - Ir a https://github.com/new\n",
    "   - Nombrar el repositorio (ejemplo: 'Python')\n",
    "   - Agregar descripción (opcional)\n",
    "   - Seleccionar 'Public' o 'Private'\n",
    "   - Marcar 'Add a README file'\n",
    "   - Elegir 'MIT License'\n",
    "   - Clic en 'Create repository'\n",
    "\n",
    "## Conectar y sincronizar con GitHub\n",
    "\n",
    "7. Conectar repositorio local con remoto:\n",
    "   ```\n",
    "   git remote add origin https://github.com/franperezec/Python.git\n",
    "   ```\n",
    "\n",
    "8. Verificar conexión:\n",
    "   ```\n",
    "   git remote -v\n",
    "   ```\n",
    "\n",
    "9. Obtener cambios del repositorio remoto:\n",
    "   ```\n",
    "   git pull origin main --allow-unrelated-histories\n",
    "   ```\n",
    "\n",
    "10. Resolver conflictos si es necesario.\n",
    "\n",
    "## Respaldar cambios\n",
    "\n",
    "11. Crear o modificar archivos en la carpeta local.\n",
    "\n",
    "12. Agregar cambios al área de preparación:\n",
    "    ```\n",
    "    git add .\n",
    "    ```\n",
    "\n",
    "13. Hacer commit:\n",
    "    ```\n",
    "    git commit -m \"Descripción de los cambios\"\n",
    "    ```\n",
    "\n",
    "14. Subir cambios a GitHub:\n",
    "    ```\n",
    "    git push origin main\n",
    "    ```\n",
    "\n",
    "## Flujo de trabajo continuo\n",
    "\n",
    "Repetir pasos 11-14 para futuros respaldos.\n",
    "\n",
    "Recuerda: Haz commits frecuentes con mensajes descriptivos."
   ]
  },
  {
   "cell_type": "code",
   "execution_count": 3,
   "metadata": {},
   "outputs": [
    {
     "data": {
      "text/plain": [
       "4"
      ]
     },
     "execution_count": 3,
     "metadata": {},
     "output_type": "execute_result"
    }
   ],
   "source": [
    "2+2"
   ]
  },
  {
   "cell_type": "code",
   "execution_count": null,
   "metadata": {},
   "outputs": [],
   "source": []
  }
 ],
 "metadata": {
  "kernelspec": {
   "display_name": "Python 3",
   "language": "python",
   "name": "python3"
  },
  "language_info": {
   "codemirror_mode": {
    "name": "ipython",
    "version": 3
   },
   "file_extension": ".py",
   "mimetype": "text/x-python",
   "name": "python",
   "nbconvert_exporter": "python",
   "pygments_lexer": "ipython3",
   "version": "3.12.3"
  }
 },
 "nbformat": 4,
 "nbformat_minor": 2
}
